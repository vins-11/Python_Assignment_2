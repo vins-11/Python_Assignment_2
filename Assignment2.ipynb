{
 "cells": [
  {
   "cell_type": "markdown",
   "id": "65ad79f6",
   "metadata": {},
   "source": [
    "#### Ques 1.  Write a Python program to remove duplicates from a list."
   ]
  },
  {
   "cell_type": "code",
   "execution_count": 7,
   "id": "5d0e3713",
   "metadata": {},
   "outputs": [
    {
     "name": "stdout",
     "output_type": "stream",
     "text": [
      "[0, 1, 2, 3, 4, 6, 7, 8, 9, 23]\n"
     ]
    }
   ],
   "source": [
    "duplicate = [1,3,4,2,4,3,1,6,8,0,6,4,23,8,4,6,7,8,9,2]\n",
    "print(list(set(duplicate)))\n"
   ]
  },
  {
   "cell_type": "markdown",
   "id": "cfcd8652",
   "metadata": {},
   "source": [
    "#### Ques 2. Write a Python program to combine two dictionary adding values for common keys\n",
    "\n",
    "d1 = {'a': 100, 'b': 200, 'c':300}\n",
    "\n",
    "d2 = {'a': 300, 'b': 200, 'd':400}\n",
    "\n",
    "Sample output: Counter({'a': 400, 'b': 400, 'd': 400, 'c': 300})"
   ]
  },
  {
   "cell_type": "code",
   "execution_count": 12,
   "id": "3caff0b8",
   "metadata": {},
   "outputs": [
    {
     "name": "stdout",
     "output_type": "stream",
     "text": [
      "Counter({'a': 400, 'b': 400, 'd': 400, 'c': 300})\n"
     ]
    }
   ],
   "source": [
    "from collections import Counter\n",
    "d1 = {'a': 100, 'b': 200, 'c':300}\n",
    "d2 = {'a': 300, 'b': 200, 'd':400}\n",
    "d = Counter(d1) + Counter(d2)\n",
    "print(d)"
   ]
  },
  {
   "cell_type": "markdown",
   "id": "8dbac764",
   "metadata": {},
   "source": [
    "#### Ques 3.Write a Python program to convert a tuple to a string."
   ]
  },
  {
   "cell_type": "code",
   "execution_count": 15,
   "id": "b0305c32",
   "metadata": {},
   "outputs": [
    {
     "name": "stdout",
     "output_type": "stream",
     "text": [
      "vinita suthar\n"
     ]
    }
   ],
   "source": [
    "def conTupToStr(tup):\n",
    "    str = ''.join(tup)\n",
    "    return str\n",
    "tuple = ('v','i','n','i','t','a',' ','s','u','t','h','a','r')\n",
    "str = conTupToStr(tuple)\n",
    "print(str)\n"
   ]
  },
  {
   "cell_type": "markdown",
   "id": "9a40ad57",
   "metadata": {},
   "source": [
    "#### Ques 4.Write a Python program to remove item(s) from set"
   ]
  },
  {
   "cell_type": "code",
   "execution_count": 20,
   "id": "86b69e79",
   "metadata": {},
   "outputs": [
    {
     "name": "stdout",
     "output_type": "stream",
     "text": [
      "[0, 1, 2, 3, 4, 5, 6, 7, 8, 9]\n",
      "\n",
      " Remove 0,1 from set\n",
      "[2, 3, 4, 5, 6, 7, 8, 9]\n"
     ]
    }
   ],
   "source": [
    "n_set = ([0,1,2,3,4,5,6,7,8,9])\n",
    "print(n_set)\n",
    "print(\"\\n Remove 0,1 from set\")\n",
    "n_set.remove(0)\n",
    "n_set.remove(1)\n",
    "print(n_set)"
   ]
  },
  {
   "cell_type": "markdown",
   "id": "a623ba0e",
   "metadata": {},
   "source": [
    "#### Ques 5. Write a Python program to create a symmetric difference"
   ]
  },
  {
   "cell_type": "code",
   "execution_count": 29,
   "id": "7fb8678a",
   "metadata": {},
   "outputs": [
    {
     "data": {
      "text/plain": [
       "{'Developer', 'a', 'she'}"
      ]
     },
     "execution_count": 29,
     "metadata": {},
     "output_type": "execute_result"
    }
   ],
   "source": [
    "s1 = {'she','is','vinita'}\n",
    "s2 = {'vinita','is','a','Developer'}\n",
    "s1.symmetric_difference(s2)"
   ]
  },
  {
   "cell_type": "markdown",
   "id": "93650d63",
   "metadata": {},
   "source": [
    "#### Ques 6.Write a Python program to construct the following pattern, using a nested for loop.\n"
   ]
  },
  {
   "cell_type": "code",
   "execution_count": 35,
   "id": "fb27960a",
   "metadata": {},
   "outputs": [
    {
     "name": "stdout",
     "output_type": "stream",
     "text": [
      "\n",
      "* \n",
      "* * \n",
      "* * * \n",
      "* * * * \n",
      "* * * * * \n",
      "* * * * \n",
      "* * * \n",
      "* * \n",
      "* \n"
     ]
    }
   ],
   "source": [
    "n=5;\n",
    "for i in range(n):\n",
    "    for j in range(i):\n",
    "        print ('* ', end=\"\")\n",
    "    print('')\n",
    "\n",
    "for i in range(n,0,-1):\n",
    "    for j in range(i):\n",
    "        print('* ', end=\"\")\n",
    "    print('')"
   ]
  },
  {
   "cell_type": "markdown",
   "id": "ba5e3bab",
   "metadata": {},
   "source": [
    "#### Ques 7. Write a Python program to get the Fibonacci series between 0 to 50."
   ]
  },
  {
   "cell_type": "code",
   "execution_count": 38,
   "id": "0d33bb28",
   "metadata": {},
   "outputs": [
    {
     "name": "stdout",
     "output_type": "stream",
     "text": [
      "1\n",
      "1\n",
      "2\n",
      "3\n",
      "5\n",
      "8\n",
      "13\n",
      "21\n",
      "34\n"
     ]
    }
   ],
   "source": [
    "x,y=0,1\n",
    "\n",
    "while y<50:\n",
    "    print(y)\n",
    "    x,y = y,x+y"
   ]
  }
 ],
 "metadata": {
  "kernelspec": {
   "display_name": "Python 3",
   "language": "python",
   "name": "python3"
  },
  "language_info": {
   "codemirror_mode": {
    "name": "ipython",
    "version": 3
   },
   "file_extension": ".py",
   "mimetype": "text/x-python",
   "name": "python",
   "nbconvert_exporter": "python",
   "pygments_lexer": "ipython3",
   "version": "3.8.8"
  }
 },
 "nbformat": 4,
 "nbformat_minor": 5
}
